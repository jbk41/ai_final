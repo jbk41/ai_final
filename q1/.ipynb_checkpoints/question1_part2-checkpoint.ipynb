{
 "cells": [
  {
   "cell_type": "markdown",
   "metadata": {
    "colab_type": "text",
    "id": "view-in-github"
   },
   "source": [
    "<a href=\"https://colab.research.google.com/github/jbk41/ai_final/blob/master/question1_part2.ipynb\" target=\"_parent\"><img src=\"https://colab.research.google.com/assets/colab-badge.svg\" alt=\"Open In Colab\"/></a>"
   ]
  },
  {
   "cell_type": "code",
   "execution_count": 1,
   "metadata": {
    "colab": {},
    "colab_type": "code",
    "collapsed": true,
    "id": "ibjr6TlCD1Ye"
   },
   "outputs": [],
   "source": [
    "# Introduction to AI: Final Project\n",
    "# Question 1, Part 1"
   ]
  },
  {
   "cell_type": "code",
   "execution_count": 2,
   "metadata": {
    "colab": {
     "base_uri": "https://localhost:8080/",
     "height": 80
    },
    "colab_type": "code",
    "id": "N07wbmLlRIMn",
    "outputId": "0d884c9c-75ce-4a81-95eb-dfb29003d22d"
   },
   "outputs": [
    {
     "name": "stderr",
     "output_type": "stream",
     "text": [
      "/Users/justinkim/anaconda3/lib/python3.6/site-packages/h5py/__init__.py:34: FutureWarning: Conversion of the second argument of issubdtype from `float` to `np.floating` is deprecated. In future, it will be treated as `np.float64 == np.dtype(float).type`.\n",
      "  from ._conv import register_converters as _register_converters\n",
      "Using TensorFlow backend.\n"
     ]
    }
   ],
   "source": [
    "import keras\n",
    "import matplotlib.pyplot as plt\n",
    "from keras import backend as K\n"
   ]
  },
  {
   "cell_type": "code",
   "execution_count": 3,
   "metadata": {
    "colab": {
     "base_uri": "https://localhost:8080/",
     "height": 51
    },
    "colab_type": "code",
    "id": "4Oj3BD9uVy5m",
    "outputId": "5aafcb27-5360-4269-fc5d-7d5f67988b13"
   },
   "outputs": [],
   "source": [
    "from keras.datasets import mnist\n",
    "\n",
    "# input image dimensions\n",
    "img_rows, img_cols = 28, 28\n",
    "\n",
    "num_classes = 10\n",
    "\n",
    "# the data, split between train and test sets\n",
    "(x_train, y_train), (x_test, y_test) = mnist.load_data()\n",
    "\n",
    "\n",
    "x_train = x_train.reshape(x_train.shape[0], img_rows, img_cols, 1)\n",
    "x_test = x_test.reshape(x_test.shape[0], img_rows, img_cols, 1)\n",
    "input_shape = (img_rows, img_cols, 1)\n",
    "\n",
    "x_train = x_train.astype('float32')\n",
    "x_test = x_test.astype('float32')\n",
    "x_train /= 255\n",
    "x_test /= 255\n",
    "\n",
    "y_train = keras.utils.to_categorical(y_train, num_classes)\n",
    "y_test = keras.utils.to_categorical(y_test, num_classes)"
   ]
  },
  {
   "cell_type": "code",
   "execution_count": 0,
   "metadata": {
    "colab": {},
    "colab_type": "code",
    "collapsed": true,
    "id": "eVUCgBoAV0Ia"
   },
   "outputs": [],
   "source": [
    "#hyper_parameters\n",
    "batch_size = 64\n",
    "epochs = 11\n",
    "dropout_rate = .5\n",
    "alpha = .2"
   ]
  },
  {
   "cell_type": "code",
   "execution_count": 0,
   "metadata": {
    "colab": {},
    "colab_type": "code",
    "collapsed": true,
    "id": "ZTwRAGNSV3qS"
   },
   "outputs": [],
   "source": [
    "from keras.models import Sequential\n",
    "from keras.layers import Dense, Conv2D, Flatten, MaxPooling2D, Dropout"
   ]
  },
  {
   "cell_type": "code",
   "execution_count": 5,
   "metadata": {
    "colab": {
     "base_uri": "https://localhost:8080/",
     "height": 71
    },
    "colab_type": "code",
    "id": "ac-UjfcaRM-a",
    "outputId": "50da34e9-f21c-44cb-ebe9-324b748f8238"
   },
   "outputs": [
    {
     "name": "stdout",
     "output_type": "stream",
     "text": [
      "WARNING:tensorflow:From /usr/local/lib/python3.6/dist-packages/keras/backend/tensorflow_backend.py:66: The name tf.get_default_graph is deprecated. Please use tf.compat.v1.get_default_graph instead.\n",
      "\n"
     ]
    }
   ],
   "source": [
    "from keras.layers import LeakyReLU\n",
    "from keras.layers import ZeroPadding2D\n",
    "\n",
    "model2 = Sequential()\n",
    "\n",
    "# Stage 1\n",
    "model2.add(ZeroPadding2D(2))\n",
    "model2.add(Conv2D(32, \n",
    "                 kernel_size=(5,5), \n",
    "                 strides=1, \n",
    "                 #padding='valid', \n",
    "                 input_shape=(28,28,1)))\n",
    "                 #activation=LeakyReLU(), \n",
    "model2.add(LeakyReLU(alpha=alpha))\n",
    "\n",
    "model2.add(ZeroPadding2D(padding=(2, 2)))\n",
    "model2.add(Conv2D(32, \n",
    "                 kernel_size=(5,5), \n",
    "                 strides=1))\n",
    "                 #padding='valid')) \n",
    "                 #activation=LeakyReLU()))\n",
    "model2.add(LeakyReLU(alpha=alpha))\n",
    "\n",
    "\n",
    "model2.add(MaxPooling2D(pool_size=(2,2), \n",
    "                       strides=(2,2),\n",
    "                       padding='valid'))\n",
    "model2.add(Dropout(dropout_rate))\n",
    "\n",
    "# Stage 2\n",
    "for i in range(2):\n",
    "  model2.add(ZeroPadding2D(2))\n",
    "  model2.add(Conv2D(64, \n",
    "                  kernel_size=(5,5), \n",
    "                  strides=1))\n",
    "                  #padding='valid')) \n",
    "                  #activation=LeakyReLU()))\n",
    "  model2.add(LeakyReLU(alpha=alpha))\n",
    "\n",
    "\n",
    "model2.add(MaxPooling2D(pool_size=(2,2), \n",
    "                       strides=(2,2), \n",
    "                       padding='valid'))\n",
    "model2.add(Dropout(dropout_rate))\n",
    "\n",
    "# Stage 3\n",
    "for i in range(2):\n",
    "  model2.add(ZeroPadding2D(2))\n",
    "  model2.add(Conv2D(128, \n",
    "                  kernel_size=(5,5), \n",
    "                  strides=1)) \n",
    "                  #padding='valid'))\n",
    "  model2.add(LeakyReLU(alpha=alpha))\n",
    "\n",
    "                  #activation=LeakyReLU()))\n",
    "model2.add(MaxPooling2D(pool_size=(2,2), \n",
    "                       strides=(2,2), \n",
    "                       padding='valid'))\n",
    "\n",
    "\n",
    "# Stage 4\n",
    "model2.add(Flatten())\n",
    "model2.add(Dense(2, \n",
    "                 name='stage4',\n",
    "                activation='linear'))\n",
    "#model2.add(Dropout(dropout_rate))\n",
    "\n",
    "# Stage \n",
    "model2.add(Dense(10, \n",
    "                activation='softmax'))"
   ]
  },
  {
   "cell_type": "code",
   "execution_count": 6,
   "metadata": {
    "colab": {
     "base_uri": "https://localhost:8080/",
     "height": 224
    },
    "colab_type": "code",
    "id": "DirrCCQJxdqw",
    "outputId": "e9e81449-e380-4d21-a115-455dde07e792"
   },
   "outputs": [
    {
     "name": "stdout",
     "output_type": "stream",
     "text": [
      "WARNING:tensorflow:From /usr/local/lib/python3.6/dist-packages/keras/backend/tensorflow_backend.py:541: The name tf.placeholder is deprecated. Please use tf.compat.v1.placeholder instead.\n",
      "\n",
      "WARNING:tensorflow:From /usr/local/lib/python3.6/dist-packages/keras/backend/tensorflow_backend.py:4432: The name tf.random_uniform is deprecated. Please use tf.random.uniform instead.\n",
      "\n",
      "WARNING:tensorflow:From /usr/local/lib/python3.6/dist-packages/keras/backend/tensorflow_backend.py:4267: The name tf.nn.max_pool is deprecated. Please use tf.nn.max_pool2d instead.\n",
      "\n",
      "WARNING:tensorflow:From /usr/local/lib/python3.6/dist-packages/keras/backend/tensorflow_backend.py:148: The name tf.placeholder_with_default is deprecated. Please use tf.compat.v1.placeholder_with_default instead.\n",
      "\n",
      "WARNING:tensorflow:From /usr/local/lib/python3.6/dist-packages/keras/backend/tensorflow_backend.py:3733: calling dropout (from tensorflow.python.ops.nn_ops) with keep_prob is deprecated and will be removed in a future version.\n",
      "Instructions for updating:\n",
      "Please use `rate` instead of `keep_prob`. Rate should be set to `rate = 1 - keep_prob`.\n"
     ]
    }
   ],
   "source": [
    "model = Sequential()\n",
    "\n",
    "# Stage 1\n",
    "model.add(Conv2D(20, \n",
    "                 kernel_size=(5,5), \n",
    "                 strides=1, \n",
    "                 padding='valid', \n",
    "                 activation='relu', \n",
    "                 input_shape=input_shape))\n",
    "\n",
    "model.add(MaxPooling2D(pool_size=(2,2), \n",
    "                       strides=(2,2), \n",
    "                       padding='valid'))\n",
    "#model.add(Dropout(0.25))\n",
    "\n",
    "# Stage 2\n",
    "model.add(Conv2D(50, \n",
    "                 kernel_size=(5,5), \n",
    "                 strides=1, \n",
    "                 padding='valid', \n",
    "                 activation='relu'))\n",
    "\n",
    "model.add(MaxPooling2D(pool_size=(2,2), \n",
    "                       strides=(2,2), \n",
    "                       padding='valid'))\n",
    "model.add(Dropout(0.45))\n",
    "\n",
    "# Stage 3\n",
    "model.add(Flatten())\n",
    "model.add(Dense(500, \n",
    "                activation='relu'))\n",
    "model.add(Dropout(0.25))\n",
    "\n",
    "# Stage 4\n",
    "model.add(Dense(10, \n",
    "                activation='softmax'))"
   ]
  },
  {
   "cell_type": "code",
   "execution_count": 7,
   "metadata": {
    "colab": {
     "base_uri": "https://localhost:8080/",
     "height": 105
    },
    "colab_type": "code",
    "id": "u1CZsZg3Vrxh",
    "outputId": "416e7461-b746-4dac-b463-8a9f6bdefb14"
   },
   "outputs": [
    {
     "name": "stdout",
     "output_type": "stream",
     "text": [
      "WARNING:tensorflow:From /usr/local/lib/python3.6/dist-packages/keras/optimizers.py:793: The name tf.train.Optimizer is deprecated. Please use tf.compat.v1.train.Optimizer instead.\n",
      "\n",
      "WARNING:tensorflow:From /usr/local/lib/python3.6/dist-packages/keras/backend/tensorflow_backend.py:3576: The name tf.log is deprecated. Please use tf.math.log instead.\n",
      "\n"
     ]
    }
   ],
   "source": [
    "from keras.optimizers import SGD\n",
    "\n",
    "\n",
    "sgd = SGD(lr=0.1, decay=1e-6, momentum=.9)\n",
    "\n",
    "model.compile(optimizer=sgd, \n",
    "              loss=keras.losses.categorical_crossentropy, \n",
    "              metrics=['accuracy'])\n",
    "model2.compile(optimizer=sgd, \n",
    "              loss=keras.losses.categorical_crossentropy, \n",
    "              metrics=['accuracy'])"
   ]
  },
  {
   "cell_type": "code",
   "execution_count": 8,
   "metadata": {
    "colab": {
     "base_uri": "https://localhost:8080/",
     "height": 751
    },
    "colab_type": "code",
    "id": "NVviwKycxdZk",
    "outputId": "60d2834d-eacd-4de7-a1cd-274a1eea9e38"
   },
   "outputs": [
    {
     "name": "stdout",
     "output_type": "stream",
     "text": [
      "WARNING:tensorflow:From /usr/local/lib/python3.6/dist-packages/tensorflow_core/python/ops/math_grad.py:1424: where (from tensorflow.python.ops.array_ops) is deprecated and will be removed in a future version.\n",
      "Instructions for updating:\n",
      "Use tf.where in 2.0, which has the same broadcast rule as np.where\n",
      "WARNING:tensorflow:From /usr/local/lib/python3.6/dist-packages/keras/backend/tensorflow_backend.py:1033: The name tf.assign_add is deprecated. Please use tf.compat.v1.assign_add instead.\n",
      "\n",
      "WARNING:tensorflow:From /usr/local/lib/python3.6/dist-packages/keras/backend/tensorflow_backend.py:1020: The name tf.assign is deprecated. Please use tf.compat.v1.assign instead.\n",
      "\n",
      "WARNING:tensorflow:From /usr/local/lib/python3.6/dist-packages/keras/backend/tensorflow_backend.py:3005: The name tf.Session is deprecated. Please use tf.compat.v1.Session instead.\n",
      "\n",
      "Train on 60000 samples, validate on 10000 samples\n",
      "Epoch 1/11\n",
      "WARNING:tensorflow:From /usr/local/lib/python3.6/dist-packages/keras/backend/tensorflow_backend.py:190: The name tf.get_default_session is deprecated. Please use tf.compat.v1.get_default_session instead.\n",
      "\n",
      "WARNING:tensorflow:From /usr/local/lib/python3.6/dist-packages/keras/backend/tensorflow_backend.py:197: The name tf.ConfigProto is deprecated. Please use tf.compat.v1.ConfigProto instead.\n",
      "\n",
      "WARNING:tensorflow:From /usr/local/lib/python3.6/dist-packages/keras/backend/tensorflow_backend.py:207: The name tf.global_variables is deprecated. Please use tf.compat.v1.global_variables instead.\n",
      "\n",
      "WARNING:tensorflow:From /usr/local/lib/python3.6/dist-packages/keras/backend/tensorflow_backend.py:216: The name tf.is_variable_initialized is deprecated. Please use tf.compat.v1.is_variable_initialized instead.\n",
      "\n",
      "WARNING:tensorflow:From /usr/local/lib/python3.6/dist-packages/keras/backend/tensorflow_backend.py:223: The name tf.variables_initializer is deprecated. Please use tf.compat.v1.variables_initializer instead.\n",
      "\n",
      "60000/60000 [==============================] - 13s 222us/step - loss: 0.2865 - acc: 0.9138 - val_loss: 0.0756 - val_acc: 0.9759\n",
      "Epoch 2/11\n",
      "60000/60000 [==============================] - 4s 72us/step - loss: 0.1807 - acc: 0.9496 - val_loss: 0.0734 - val_acc: 0.9783\n",
      "Epoch 3/11\n",
      "60000/60000 [==============================] - 4s 74us/step - loss: 0.1710 - acc: 0.9553 - val_loss: 0.0861 - val_acc: 0.9759\n",
      "Epoch 4/11\n",
      "60000/60000 [==============================] - 4s 73us/step - loss: 0.1808 - acc: 0.9536 - val_loss: 0.0955 - val_acc: 0.9736\n",
      "Epoch 5/11\n",
      "60000/60000 [==============================] - 4s 72us/step - loss: 0.2343 - acc: 0.9465 - val_loss: 0.1320 - val_acc: 0.9624\n",
      "Epoch 6/11\n",
      "60000/60000 [==============================] - 4s 72us/step - loss: 0.2278 - acc: 0.9490 - val_loss: 0.1019 - val_acc: 0.9738\n",
      "Epoch 7/11\n",
      "60000/60000 [==============================] - 4s 73us/step - loss: 0.1196 - acc: 0.9711 - val_loss: 0.0538 - val_acc: 0.9862\n",
      "Epoch 8/11\n",
      "60000/60000 [==============================] - 4s 73us/step - loss: 0.0778 - acc: 0.9798 - val_loss: 0.0444 - val_acc: 0.9871\n",
      "Epoch 9/11\n",
      "60000/60000 [==============================] - 4s 73us/step - loss: 0.0687 - acc: 0.9811 - val_loss: 0.0424 - val_acc: 0.9889\n",
      "Epoch 10/11\n",
      "60000/60000 [==============================] - 4s 72us/step - loss: 0.0589 - acc: 0.9838 - val_loss: 0.0389 - val_acc: 0.9888\n",
      "Epoch 11/11\n",
      "60000/60000 [==============================] - 4s 75us/step - loss: 0.0544 - acc: 0.9849 - val_loss: 0.0367 - val_acc: 0.9899\n"
     ]
    }
   ],
   "source": [
    "from keras.callbacks import ReduceLROnPlateau\n",
    "\n",
    "reduce_lr = ReduceLROnPlateau(monitor='loss', factor=0.2, patience=3, min_lr=0.0000001)\n",
    "\n",
    "history = model.fit(x_train, \n",
    "          y_train, \n",
    "          validation_data=(x_test, y_test),\n",
    "          callbacks=[reduce_lr],\n",
    "          batch_size=batch_size, \n",
    "          epochs=epochs)"
   ]
  },
  {
   "cell_type": "code",
   "execution_count": 9,
   "metadata": {
    "colab": {
     "base_uri": "https://localhost:8080/",
     "height": 408
    },
    "colab_type": "code",
    "id": "JOxAB2a-Vur4",
    "outputId": "754fd8bd-eeae-4df6-c85f-a55c59f2a9c5"
   },
   "outputs": [
    {
     "name": "stdout",
     "output_type": "stream",
     "text": [
      "Train on 60000 samples, validate on 10000 samples\n",
      "Epoch 1/11\n",
      "60000/60000 [==============================] - 14s 233us/step - loss: 0.6817 - acc: 0.7840 - val_loss: 0.1964 - val_acc: 0.9615\n",
      "Epoch 2/11\n",
      "60000/60000 [==============================] - 13s 217us/step - loss: 0.2442 - acc: 0.9422 - val_loss: 0.1461 - val_acc: 0.9717\n",
      "Epoch 3/11\n",
      "60000/60000 [==============================] - 13s 218us/step - loss: 0.1879 - acc: 0.9566 - val_loss: 0.1318 - val_acc: 0.9715\n",
      "Epoch 4/11\n",
      "60000/60000 [==============================] - 13s 217us/step - loss: 0.1754 - acc: 0.9609 - val_loss: 0.1120 - val_acc: 0.9793\n",
      "Epoch 5/11\n",
      "60000/60000 [==============================] - 13s 218us/step - loss: 0.1551 - acc: 0.9659 - val_loss: 0.2585 - val_acc: 0.9584\n",
      "Epoch 6/11\n",
      "60000/60000 [==============================] - 13s 216us/step - loss: 0.1590 - acc: 0.9654 - val_loss: 0.1204 - val_acc: 0.9753\n",
      "Epoch 7/11\n",
      "60000/60000 [==============================] - 13s 216us/step - loss: 0.1642 - acc: 0.9649 - val_loss: 0.0936 - val_acc: 0.9853\n",
      "Epoch 8/11\n",
      "60000/60000 [==============================] - 13s 215us/step - loss: 0.1528 - acc: 0.9668 - val_loss: 0.1080 - val_acc: 0.9793\n",
      "Epoch 9/11\n",
      "60000/60000 [==============================] - 13s 214us/step - loss: 0.1616 - acc: 0.9653 - val_loss: 0.1057 - val_acc: 0.9782\n",
      "Epoch 10/11\n",
      "60000/60000 [==============================] - 13s 218us/step - loss: 0.1417 - acc: 0.9700 - val_loss: 0.0808 - val_acc: 0.9850\n",
      "Epoch 11/11\n",
      "60000/60000 [==============================] - 13s 218us/step - loss: 0.1582 - acc: 0.9660 - val_loss: 0.1485 - val_acc: 0.9746\n"
     ]
    }
   ],
   "source": [
    "from keras.callbacks import ReduceLROnPlateau\n",
    "\n",
    "reduce_lr = ReduceLROnPlateau(monitor='loss', factor=0.2, patience=3, min_lr=0.0000001)\n",
    "# hyper_parameters used: batch_size, epochs\n",
    "history2 = model2.fit(x_train, \n",
    "          y_train, \n",
    "          validation_data=(x_test, y_test),\n",
    "          callbacks=[reduce_lr],\n",
    "          batch_size=batch_size, \n",
    "          epochs=epochs)"
   ]
  },
  {
   "cell_type": "code",
   "execution_count": 10,
   "metadata": {
    "colab": {
     "base_uri": "https://localhost:8080/",
     "height": 1000
    },
    "colab_type": "code",
    "id": "WmwFAUh5V72U",
    "outputId": "a6fa1c1e-8b5a-4704-9108-215d7d42746a"
   },
   "outputs": [
    {
     "name": "stdout",
     "output_type": "stream",
     "text": [
      "Model: \"sequential_1\"\n",
      "_________________________________________________________________\n",
      "Layer (type)                 Output Shape              Param #   \n",
      "=================================================================\n",
      "zero_padding2d_1 (ZeroPaddin (None, 32, 32, 1)         0         \n",
      "_________________________________________________________________\n",
      "conv2d_1 (Conv2D)            (None, 28, 28, 32)        832       \n",
      "_________________________________________________________________\n",
      "leaky_re_lu_1 (LeakyReLU)    (None, 28, 28, 32)        0         \n",
      "_________________________________________________________________\n",
      "zero_padding2d_2 (ZeroPaddin (None, 32, 32, 32)        0         \n",
      "_________________________________________________________________\n",
      "conv2d_2 (Conv2D)            (None, 28, 28, 32)        25632     \n",
      "_________________________________________________________________\n",
      "leaky_re_lu_2 (LeakyReLU)    (None, 28, 28, 32)        0         \n",
      "_________________________________________________________________\n",
      "max_pooling2d_1 (MaxPooling2 (None, 14, 14, 32)        0         \n",
      "_________________________________________________________________\n",
      "dropout_1 (Dropout)          (None, 14, 14, 32)        0         \n",
      "_________________________________________________________________\n",
      "zero_padding2d_3 (ZeroPaddin (None, 18, 18, 32)        0         \n",
      "_________________________________________________________________\n",
      "conv2d_3 (Conv2D)            (None, 14, 14, 64)        51264     \n",
      "_________________________________________________________________\n",
      "leaky_re_lu_3 (LeakyReLU)    (None, 14, 14, 64)        0         \n",
      "_________________________________________________________________\n",
      "zero_padding2d_4 (ZeroPaddin (None, 18, 18, 64)        0         \n",
      "_________________________________________________________________\n",
      "conv2d_4 (Conv2D)            (None, 14, 14, 64)        102464    \n",
      "_________________________________________________________________\n",
      "leaky_re_lu_4 (LeakyReLU)    (None, 14, 14, 64)        0         \n",
      "_________________________________________________________________\n",
      "max_pooling2d_2 (MaxPooling2 (None, 7, 7, 64)          0         \n",
      "_________________________________________________________________\n",
      "dropout_2 (Dropout)          (None, 7, 7, 64)          0         \n",
      "_________________________________________________________________\n",
      "zero_padding2d_5 (ZeroPaddin (None, 11, 11, 64)        0         \n",
      "_________________________________________________________________\n",
      "conv2d_5 (Conv2D)            (None, 7, 7, 128)         204928    \n",
      "_________________________________________________________________\n",
      "leaky_re_lu_5 (LeakyReLU)    (None, 7, 7, 128)         0         \n",
      "_________________________________________________________________\n",
      "zero_padding2d_6 (ZeroPaddin (None, 11, 11, 128)       0         \n",
      "_________________________________________________________________\n",
      "conv2d_6 (Conv2D)            (None, 7, 7, 128)         409728    \n",
      "_________________________________________________________________\n",
      "leaky_re_lu_6 (LeakyReLU)    (None, 7, 7, 128)         0         \n",
      "_________________________________________________________________\n",
      "max_pooling2d_3 (MaxPooling2 (None, 3, 3, 128)         0         \n",
      "_________________________________________________________________\n",
      "flatten_1 (Flatten)          (None, 1152)              0         \n",
      "_________________________________________________________________\n",
      "stage4 (Dense)               (None, 2)                 2306      \n",
      "_________________________________________________________________\n",
      "dense_1 (Dense)              (None, 10)                30        \n",
      "=================================================================\n",
      "Total params: 797,184\n",
      "Trainable params: 797,184\n",
      "Non-trainable params: 0\n",
      "_________________________________________________________________\n"
     ]
    }
   ],
   "source": [
    "model2.summary()"
   ]
  },
  {
   "cell_type": "code",
   "execution_count": 0,
   "metadata": {
    "colab": {},
    "colab_type": "code",
    "collapsed": true,
    "id": "cBQvvOluxdAz"
   },
   "outputs": [],
   "source": []
  },
  {
   "cell_type": "code",
   "execution_count": null,
   "metadata": {
    "collapsed": true
   },
   "outputs": [],
   "source": []
  },
  {
   "cell_type": "code",
   "execution_count": 5,
   "metadata": {},
   "outputs": [
    {
     "ename": "ValueError",
     "evalue": "No model found in config file.",
     "output_type": "error",
     "traceback": [
      "\u001b[0;31m---------------------------------------------------------------------------\u001b[0m",
      "\u001b[0;31mValueError\u001b[0m                                Traceback (most recent call last)",
      "\u001b[0;32m<ipython-input-5-6dd3e1f50f25>\u001b[0m in \u001b[0;36m<module>\u001b[0;34m()\u001b[0m\n\u001b[1;32m      1\u001b[0m \u001b[0;32mfrom\u001b[0m \u001b[0mkeras\u001b[0m\u001b[0;34m.\u001b[0m\u001b[0mmodels\u001b[0m \u001b[0;32mimport\u001b[0m \u001b[0mload_model\u001b[0m\u001b[0;34m\u001b[0m\u001b[0m\n\u001b[1;32m      2\u001b[0m \u001b[0;34m\u001b[0m\u001b[0m\n\u001b[0;32m----> 3\u001b[0;31m \u001b[0mmodel2\u001b[0m \u001b[0;34m=\u001b[0m \u001b[0mload_model\u001b[0m\u001b[0;34m(\u001b[0m\u001b[0;34m'models/p2_9746.h5'\u001b[0m\u001b[0;34m)\u001b[0m\u001b[0;34m\u001b[0m\u001b[0m\n\u001b[0m",
      "\u001b[0;32m~/anaconda3/lib/python3.6/site-packages/keras/models.py\u001b[0m in \u001b[0;36mload_model\u001b[0;34m(filepath, custom_objects, compile)\u001b[0m\n\u001b[1;32m    266\u001b[0m         \u001b[0mmodel_config\u001b[0m \u001b[0;34m=\u001b[0m \u001b[0mf\u001b[0m\u001b[0;34m.\u001b[0m\u001b[0mattrs\u001b[0m\u001b[0;34m.\u001b[0m\u001b[0mget\u001b[0m\u001b[0;34m(\u001b[0m\u001b[0;34m'model_config'\u001b[0m\u001b[0;34m)\u001b[0m\u001b[0;34m\u001b[0m\u001b[0m\n\u001b[1;32m    267\u001b[0m         \u001b[0;32mif\u001b[0m \u001b[0mmodel_config\u001b[0m \u001b[0;32mis\u001b[0m \u001b[0;32mNone\u001b[0m\u001b[0;34m:\u001b[0m\u001b[0;34m\u001b[0m\u001b[0m\n\u001b[0;32m--> 268\u001b[0;31m             \u001b[0;32mraise\u001b[0m \u001b[0mValueError\u001b[0m\u001b[0;34m(\u001b[0m\u001b[0;34m'No model found in config file.'\u001b[0m\u001b[0;34m)\u001b[0m\u001b[0;34m\u001b[0m\u001b[0m\n\u001b[0m\u001b[1;32m    269\u001b[0m         \u001b[0mmodel_config\u001b[0m \u001b[0;34m=\u001b[0m \u001b[0mjson\u001b[0m\u001b[0;34m.\u001b[0m\u001b[0mloads\u001b[0m\u001b[0;34m(\u001b[0m\u001b[0mmodel_config\u001b[0m\u001b[0;34m.\u001b[0m\u001b[0mdecode\u001b[0m\u001b[0;34m(\u001b[0m\u001b[0;34m'utf-8'\u001b[0m\u001b[0;34m)\u001b[0m\u001b[0;34m)\u001b[0m\u001b[0;34m\u001b[0m\u001b[0m\n\u001b[1;32m    270\u001b[0m         \u001b[0mmodel\u001b[0m \u001b[0;34m=\u001b[0m \u001b[0mmodel_from_config\u001b[0m\u001b[0;34m(\u001b[0m\u001b[0mmodel_config\u001b[0m\u001b[0;34m,\u001b[0m \u001b[0mcustom_objects\u001b[0m\u001b[0;34m=\u001b[0m\u001b[0mcustom_objects\u001b[0m\u001b[0;34m)\u001b[0m\u001b[0;34m\u001b[0m\u001b[0m\n",
      "\u001b[0;31mValueError\u001b[0m: No model found in config file."
     ]
    }
   ],
   "source": [
    "from keras.models import load_model\n",
    "\n",
    "model2 = load_model('models/p2_9746.h5')"
   ]
  },
  {
   "cell_type": "code",
   "execution_count": null,
   "metadata": {
    "collapsed": true
   },
   "outputs": [],
   "source": []
  }
 ],
 "metadata": {
  "accelerator": "GPU",
  "colab": {
   "collapsed_sections": [],
   "include_colab_link": true,
   "name": "question1_part2.ipynb",
   "provenance": []
  },
  "kernelspec": {
   "display_name": "Python 3",
   "language": "python",
   "name": "python3"
  },
  "language_info": {
   "codemirror_mode": {
    "name": "ipython",
    "version": 3
   },
   "file_extension": ".py",
   "mimetype": "text/x-python",
   "name": "python",
   "nbconvert_exporter": "python",
   "pygments_lexer": "ipython3",
   "version": "3.6.3"
  }
 },
 "nbformat": 4,
 "nbformat_minor": 1
}
