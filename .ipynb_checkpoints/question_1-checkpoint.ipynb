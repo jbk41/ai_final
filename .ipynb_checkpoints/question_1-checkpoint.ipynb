{
 "cells": [
  {
   "cell_type": "markdown",
   "metadata": {},
   "source": [
    "# Introduction to AI: Final Project\n",
    "# Question 1"
   ]
  },
  {
   "cell_type": "code",
   "execution_count": 6,
   "metadata": {},
   "outputs": [],
   "source": [
    "import keras\n",
    "import matplotlib.pyplot as plt"
   ]
  },
  {
   "cell_type": "code",
   "execution_count": 20,
   "metadata": {},
   "outputs": [],
   "source": [
    "from keras.datasets import mnist\n",
    "(x_train, y_train), (x_test, y_test) = mnist.load_data()\n",
    "\n",
    "# reshape datat to fit CNN model\n",
    "x_train = x_train.reshape(60000,28,28,1)\n",
    "x_test = x_test.reshape(10000,28,28,1)\n",
    "\n",
    "from keras.utils import to_categorical\n",
    "# one hot encode y\n",
    "y_train = to_categorical(y_train)\n",
    "y_test = to_categorical(y_test)"
   ]
  },
  {
   "cell_type": "code",
   "execution_count": 27,
   "metadata": {
    "collapsed": true
   },
   "outputs": [],
   "source": [
    "#hyper_parameters\n",
    "batch_size = 128\n",
    "epochs = 100"
   ]
  },
  {
   "cell_type": "code",
   "execution_count": 45,
   "metadata": {},
   "outputs": [],
   "source": [
    "from keras.models import Sequential\n",
    "from keras.layers import Dense, Conv2D, Flatten, MaxPooling2D, Dropout\n",
    "\n",
    "model = Sequential()\n",
    "\n",
    "# Stage 1\n",
    "model.add(Conv2D(20, \n",
    "                 kernel_size=(5,5), \n",
    "                 strides=1, \n",
    "                 padding='valid', \n",
    "                 activation='relu', \n",
    "                 input_shape=(28,28,1)))\n",
    "\n",
    "model.add(MaxPooling2D(pool_size=(2,2), \n",
    "                       strides=(2,2), \n",
    "                       padding='valid'))\n",
    "#model.add(Dropout(0.25))\n",
    "\n",
    "# Stage 2\n",
    "model.add(Conv2D(50, \n",
    "                 kernel_size=(5,5), \n",
    "                 strides=1, \n",
    "                 padding='valid', \n",
    "                 activation='relu'))\n",
    "\n",
    "model.add(MaxPooling2D(pool_size=(2,2), \n",
    "                       strides=(2,2), \n",
    "                       padding='valid'))\n",
    "#model.add(Dropout(0.25))\n",
    "\n",
    "# Stage 3\n",
    "model.add(Flatten())\n",
    "model.add(Dense(500, \n",
    "                activation='relu'))\n",
    "#model.add(Dropout(0.25))\n",
    "\n",
    "# Stage 4\n",
    "model.add(Dense(10, \n",
    "                activation='softmax'))"
   ]
  },
  {
   "cell_type": "code",
   "execution_count": 46,
   "metadata": {
    "collapsed": true
   },
   "outputs": [],
   "source": [
    "\n",
    "model.compile(optimizer='adam', \n",
    "              loss='categorical_crossentropy', \n",
    "              metrics=['accuracy'])"
   ]
  },
  {
   "cell_type": "code",
   "execution_count": 47,
   "metadata": {},
   "outputs": [
    {
     "name": "stdout",
     "output_type": "stream",
     "text": [
      "Epoch 1/3\n",
      "60000/60000 [==============================] - 23s 387us/step - loss: 11.9303 - acc: 0.2589\n",
      "Epoch 2/3\n",
      "60000/60000 [==============================] - 22s 374us/step - loss: 11.6355 - acc: 0.2778\n",
      "Epoch 3/3\n",
      "60000/60000 [==============================] - 22s 360us/step - loss: 11.6062 - acc: 0.2797\n"
     ]
    },
    {
     "data": {
      "text/plain": [
       "<keras.callbacks.History at 0x182574ce80>"
      ]
     },
     "execution_count": 47,
     "metadata": {},
     "output_type": "execute_result"
    }
   ],
   "source": [
    "from keras.callbacks import ReduceLROnPlateau\n",
    "\n",
    "reduce_lr = ReduceLROnPlateau(monitor='loss', factor=0.2, patience=5, min_lr=0.0000001)\n",
    "# hyper_parameters used: batch_size, epochs\n",
    "model.fit(x_train, \n",
    "          y_train, \n",
    "          callbacks=[reduce_lr],\n",
    "          batch_size=batch_size, \n",
    "          epochs=epochs)"
   ]
  },
  {
   "cell_type": "code",
   "execution_count": 40,
   "metadata": {},
   "outputs": [
    {
     "name": "stdout",
     "output_type": "stream",
     "text": [
      "Test loss: 12.67849393005371\n",
      "Test accuracy: 0.2134\n"
     ]
    }
   ],
   "source": [
    "score = model.evaluate(x_test, y_test, verbose=0)\n",
    "print('Test loss:', score[0])\n",
    "print('Test accuracy:', score[1])"
   ]
  },
  {
   "cell_type": "code",
   "execution_count": null,
   "metadata": {
    "collapsed": true
   },
   "outputs": [],
   "source": []
  }
 ],
 "metadata": {
  "kernelspec": {
   "display_name": "Python 3",
   "language": "python",
   "name": "python3"
  },
  "language_info": {
   "codemirror_mode": {
    "name": "ipython",
    "version": 3
   },
   "file_extension": ".py",
   "mimetype": "text/x-python",
   "name": "python",
   "nbconvert_exporter": "python",
   "pygments_lexer": "ipython3",
   "version": "3.6.3"
  }
 },
 "nbformat": 4,
 "nbformat_minor": 2
}
